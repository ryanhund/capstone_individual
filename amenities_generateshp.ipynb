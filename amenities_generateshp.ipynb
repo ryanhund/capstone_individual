{
 "metadata": {
  "language_info": {
   "codemirror_mode": {
    "name": "ipython",
    "version": 3
   },
   "file_extension": ".py",
   "mimetype": "text/x-python",
   "name": "python",
   "nbconvert_exporter": "python",
   "pygments_lexer": "ipython3",
   "version": "3.7.10-final"
  },
  "orig_nbformat": 2,
  "kernelspec": {
   "name": "python3710jvsc74a57bd0a1d5ed02ae28f87551d2ec131093ab671b479c3cd38748bd7a9816e87b58404d",
   "display_name": "Python 3.7.10 64-bit ('final': conda)"
  }
 },
 "nbformat": 4,
 "nbformat_minor": 2,
 "cells": [
  {
   "cell_type": "code",
   "execution_count": 1,
   "metadata": {},
   "outputs": [],
   "source": [
    "import geopandas as gpd\n",
    "import numpy as np\n",
    "import osmnx as ox\n",
    "import pandas as pd\n",
    "\n",
    "from shapely.geometry import Point"
   ]
  },
  {
   "cell_type": "code",
   "execution_count": 66,
   "metadata": {},
   "outputs": [
    {
     "output_type": "stream",
     "name": "stderr",
     "text": [
      "C:\\Users\\Ryan\\.conda\\envs\\final\\lib\\site-packages\\ipykernel\\ipkernel.py:283: DeprecationWarning: `should_run_async` will not call `transform_cell` automatically in the future. Please pass the result to `transformed_cell` argument and any exception that happen during thetransform in `preprocessing_exc_tuple` in IPython 7.17 and above.\n  and should_run_async(code)\n"
     ]
    }
   ],
   "source": [
    "project_site = (33.9379368079315, -118.25653793837309)\n",
    "buffer = 4023 #2.5 miles in meters\n",
    "\n",
    "tags = {'school':{'amenity': ['school', 'kindergarten']},\n",
    "        'grocery_store':{'shop': ['grocery', 'greengrocer', 'supermarket', 'convenience']},\n",
    "        'library':{'amenity':['library']},\n",
    "        'healthcare_facility':{'amenity':['clinic','hospital','doctors']},\n",
    "        'pharmacy':{'amenity':['pharmacy']},\n",
    "        'bank_or_ATM':{'amenity':['bank','atm']},\n",
    "        'park':{'leisure':['park', 'dog_park','garden','nature_reserve','picnic_table','playground','pitch']},\n",
    "        'social_services':{'amenity':['social_facility']},\n",
    "        'religious_facility':{'amenity':['place_of_worship']},\n",
    "        'community_center':{'amenity':['community_centre']}\n",
    "        }\n",
    "\n",
    "def find_amenities(point, tags, buffer):\n",
    "    result = gpd.GeoDataFrame(crs='EPSG:4326')\n",
    "\n",
    "    for name, tag_dict in tags.items():\n",
    "        amenities = ox.geometries_from_point(point, tag_dict, buffer)\n",
    "\n",
    "        # Drop unnecessary columns\n",
    "        key = next(iter(tag_dict))\n",
    "        columns_to_keep = ['unique_id', 'geometry', 'name', key]\n",
    "        try:\n",
    "            amenities = amenities[columns_to_keep]\n",
    "        except KeyError:\n",
    "            continue\n",
    "        \n",
    "        amenities.rename(columns={key:'type_of_amenity'}, inplace=True)\n",
    "\n",
    "        # Append to the return GDF\n",
    "        result = result.append(amenities)\n",
    "    \n",
    "    # Not sure why this is necessary \n",
    "    result.set_geometry('geometry', inplace=True)\n",
    "    result.reset_index(drop=True, inplace=True)\n",
    "    return result\n",
    "\n"
   ]
  },
  {
   "cell_type": "code",
   "execution_count": 67,
   "metadata": {},
   "outputs": [
    {
     "output_type": "stream",
     "name": "stderr",
     "text": [
      "ipykernel_launcher:17: FutureWarning: Assigning CRS to a GeoDataFrame without a geometry column is now deprecated and will not be supported in the future.\n"
     ]
    },
    {
     "output_type": "execute_result",
     "data": {
      "text/plain": [
       "        unique_id                     geometry  \\\n",
       "0  node/358780007  POINT (-118.28313 33.93279)   \n",
       "1  node/358780285  POINT (-118.21702 33.92529)   \n",
       "2  node/358781087  POINT (-118.28730 33.95140)   \n",
       "3  node/358781644  POINT (-118.25035 33.92418)   \n",
       "4  node/358784931  POINT (-118.23785 33.96057)   \n",
       "\n",
       "                                    name type_of_amenity  \n",
       "0                       Ascension School          school  \n",
       "1                     Baptist Day School          school  \n",
       "2  Harte Preparatory Intermediate School          school  \n",
       "3               Carver Elementary School          school  \n",
       "4               Graham Elementary School          school  "
      ],
      "text/html": "<div>\n<style scoped>\n    .dataframe tbody tr th:only-of-type {\n        vertical-align: middle;\n    }\n\n    .dataframe tbody tr th {\n        vertical-align: top;\n    }\n\n    .dataframe thead th {\n        text-align: right;\n    }\n</style>\n<table border=\"1\" class=\"dataframe\">\n  <thead>\n    <tr style=\"text-align: right;\">\n      <th></th>\n      <th>unique_id</th>\n      <th>geometry</th>\n      <th>name</th>\n      <th>type_of_amenity</th>\n    </tr>\n  </thead>\n  <tbody>\n    <tr>\n      <th>0</th>\n      <td>node/358780007</td>\n      <td>POINT (-118.28313 33.93279)</td>\n      <td>Ascension School</td>\n      <td>school</td>\n    </tr>\n    <tr>\n      <th>1</th>\n      <td>node/358780285</td>\n      <td>POINT (-118.21702 33.92529)</td>\n      <td>Baptist Day School</td>\n      <td>school</td>\n    </tr>\n    <tr>\n      <th>2</th>\n      <td>node/358781087</td>\n      <td>POINT (-118.28730 33.95140)</td>\n      <td>Harte Preparatory Intermediate School</td>\n      <td>school</td>\n    </tr>\n    <tr>\n      <th>3</th>\n      <td>node/358781644</td>\n      <td>POINT (-118.25035 33.92418)</td>\n      <td>Carver Elementary School</td>\n      <td>school</td>\n    </tr>\n    <tr>\n      <th>4</th>\n      <td>node/358784931</td>\n      <td>POINT (-118.23785 33.96057)</td>\n      <td>Graham Elementary School</td>\n      <td>school</td>\n    </tr>\n  </tbody>\n</table>\n</div>"
     },
     "metadata": {},
     "execution_count": 67
    }
   ],
   "source": [
    "gdf = find_amenities(project_site, tags, buffer=4023)\n",
    "gdf.head()"
   ]
  },
  {
   "cell_type": "code",
   "execution_count": 81,
   "metadata": {},
   "outputs": [],
   "source": [
    "# Convert GDF to exclusively point geometries (required to create shapefile)\n",
    "\n",
    "coward_gdf = ox.projection.project_gdf(gdf)\n",
    "coward_gdf['geometry'] = coward_gdf.centroid\n",
    "coward_gdf = ox.projection.project_gdf(coward_gdf, to_crs=gdf.crs)"
   ]
  },
  {
   "cell_type": "code",
   "execution_count": 82,
   "metadata": {},
   "outputs": [],
   "source": [
    "# Write the completed geodataframe to a shapefile\n",
    "coward_gdf.to_file('data/lanzit_amenities/lanzit_amenities.shp')"
   ]
  }
 ]
}